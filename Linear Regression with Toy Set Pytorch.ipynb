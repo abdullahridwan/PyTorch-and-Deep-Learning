{
 "cells": [
  {
   "cell_type": "code",
   "execution_count": 8,
   "id": "b8102794",
   "metadata": {},
   "outputs": [],
   "source": [
    "import matplotlib.pyplot as plt\n",
    "import pandas as pd\n",
    "import numpy as np\n",
    "import torch, torchvision\n",
    "from torch.autograd import Variable\n",
    "import torch.nn as nn \n",
    "%matplotlib inline"
   ]
  },
  {
   "cell_type": "code",
   "execution_count": 20,
   "id": "32e610c1",
   "metadata": {},
   "outputs": [
    {
     "data": {
      "image/png": "[encoded data removed]",
      "text/plain": [
       "<Figure size 432x288 with 1 Axes>"
      ]
     },
     "metadata": {
      "needs_background": "light"
     },
     "output_type": "display_data"
    }
   ],
   "source": [
    "# As a car company we collect this data from previous selling\n",
    "# lets define car prices\n",
    "car_prices_array = [3,4,5,6,7,8,9]\n",
    "\n",
    "# lets define number of car sell\n",
    "number_of_car_sell_array = [ 7.5, 7, 6.5, 6.0, 5.5, 5.0, 4.5]\n",
    "\n",
    "# lets visualize our data\n",
    "import matplotlib.pyplot as plt\n",
    "plt.scatter(car_prices_array,number_of_car_sell_array)\n",
    "plt.xlabel(\"Car Price $\")\n",
    "plt.ylabel(\"Number of Car Sell\")\n",
    "plt.title(\"Car Price$ VS Number of Car Sell\")\n",
    "plt.show()"
   ]
  },
  {
   "cell_type": "markdown",
   "id": "2c2157ec",
   "metadata": {},
   "source": [
    "# How To"
   ]
  },
  {
   "cell_type": "markdown",
   "id": "592ebe4f",
   "metadata": {},
   "source": [
    "## Change the Data to torch tensors. If need be, change it to Variables too ---***Make Sure to Explicitly define the data type when changing to np array***---"
   ]
  },
  {
   "cell_type": "code",
   "execution_count": 38,
   "id": "faad4cb7",
   "metadata": {},
   "outputs": [
    {
     "data": {
      "text/plain": [
       "tensor([[3.],\n",
       "        [4.],\n",
       "        [5.],\n",
       "        [6.],\n",
       "        [7.],\n",
       "        [8.],\n",
       "        [9.]])"
      ]
     },
     "execution_count": 38,
     "metadata": {},
     "output_type": "execute_result"
    }
   ],
   "source": [
    "# We want to pass in a tensor of all the car prices. So lets change the car prices array into a tensor/vector.\n",
    "np_vec = np.array(car_prices_array, dtype=np.float32).reshape(-1,1)\n",
    "torch_vec = torch.from_numpy(np_vec)\n",
    "\n",
    "#Since we need to calculate and deal with gradients, we turn the tensor into a variable as well. \n",
    "car_prices = Variable(torch_vec)\n",
    "car_prices"
   ]
  },
  {
   "cell_type": "code",
   "execution_count": 41,
   "id": "16d89a80",
   "metadata": {},
   "outputs": [
    {
     "data": {
      "text/plain": [
       "tensor([[7.5000],\n",
       "        [7.0000],\n",
       "        [6.5000],\n",
       "        [6.0000],\n",
       "        [5.5000],\n",
       "        [5.0000],\n",
       "        [4.5000]])"
      ]
     },
     "execution_count": 41,
     "metadata": {},
     "output_type": "execute_result"
    }
   ],
   "source": [
    "actual_number_of_cars_sold = Variable(torch.from_numpy(np.array(number_of_car_sell_array, dtype=np.float32).reshape(-1,1)))\n",
    "actual_number_of_cars_sold"
   ]
  },
  {
   "cell_type": "markdown",
   "id": "db31d223",
   "metadata": {},
   "source": [
    "## Define the Model"
   ]
  },
  {
   "cell_type": "code",
   "execution_count": 13,
   "id": "a92036ff",
   "metadata": {},
   "outputs": [],
   "source": [
    "# Pytorch model template\n",
    "class ModelName(nn.Module):\n",
    "    def __init__(self, input_size, output_size):\n",
    "        super(ModelName, self).__init__()\n",
    "        # define the layers in the model \n",
    "        \n",
    "    def forward(self, x):\n",
    "        # determine how input moves thru the different layers \n",
    "        # return final output\n",
    "        return x"
   ]
  },
  {
   "cell_type": "code",
   "execution_count": 28,
   "id": "4a9245d9",
   "metadata": {},
   "outputs": [],
   "source": [
    "class CarModel(nn.Module):\n",
    "    def __init__(self, input_size, output_size):\n",
    "        super(CarModel, self).__init__()\n",
    "        self.linear_layer = nn.Linear(1,1)\n",
    "        \n",
    "        \n",
    "    def forward(self, x):\n",
    "        result = self.linear_layer(x)\n",
    "        return result"
   ]
  },
  {
   "cell_type": "code",
   "execution_count": 29,
   "id": "e41957cf",
   "metadata": {},
   "outputs": [],
   "source": [
    "# Define the model\n",
    "input_size = 1\n",
    "output_size = 1\n",
    "carModel = CarModel(input_size, output_size)"
   ]
  },
  {
   "cell_type": "code",
   "execution_count": 30,
   "id": "5a846e00",
   "metadata": {},
   "outputs": [],
   "source": [
    "# Define loss function, learning rate, and optimization function\n",
    "loss_fxn = nn.MSELoss()\n",
    "learning_rate = 0.02 \n",
    "opt_fxn = torch.optim.SGD(carModel.parameters(), learning_rate)"
   ]
  },
  {
   "cell_type": "markdown",
   "id": "18201726",
   "metadata": {},
   "source": [
    "## Train the Model"
   ]
  },
  {
   "cell_type": "code",
   "execution_count": 51,
   "id": "37a82ec6",
   "metadata": {},
   "outputs": [],
   "source": [
    "def print_info(i, loss_num, multiple):\n",
    "    if(i % multiple == 0):\n",
    "        print(f\"Iteration: {i} Loss: {loss_num}\", )"
   ]
  },
  {
   "cell_type": "code",
   "execution_count": 54,
   "id": "1b7557df",
   "metadata": {},
   "outputs": [
    {
     "name": "stdout",
     "output_type": "stream",
     "text": [
      "Iteration: 0 Loss: 1.4395395517349243\n",
      "Iteration: 100 Loss: 0.6573327779769897\n",
      "Iteration: 200 Loss: 0.3001566529273987\n",
      "Iteration: 300 Loss: 0.13705989718437195\n",
      "Iteration: 400 Loss: 0.06258555501699448\n",
      "Iteration: 500 Loss: 0.028578367084264755\n",
      "Iteration: 600 Loss: 0.013049629516899586\n",
      "Iteration: 700 Loss: 0.005958777852356434\n",
      "Iteration: 800 Loss: 0.0027209410909563303\n",
      "Iteration: 900 Loss: 0.0012425165623426437\n"
     ]
    }
   ],
   "source": [
    "num_of_iterations = 1000\n",
    "loss_list = []\n",
    "\n",
    "for i in range(num_of_iterations):\n",
    "    opt_fxn.zero_grad() #Clear out previosly calculated gradient changes from opt\n",
    "    predicted_num_cars_sold = carModel(car_prices) #predict \n",
    "    loss = loss_fxn(predicted_num_cars_sold, actual_number_of_cars_sold) #calculate loss\n",
    "    loss.backward() #get how much we need to change weights given the loss\n",
    "    opt_fxn.step() #implement the changes\n",
    "    loss_list.append(loss.data) #for graph\n",
    "    print_info(i, loss.data, 100)"
   ]
  },
  {
   "cell_type": "code",
   "execution_count": 55,
   "id": "46a0a790",
   "metadata": {},
   "outputs": [
    {
     "data": {
      "image/png": "[encoded data removed]",
      "text/plain": [
       "<Figure size 432x288 with 1 Axes>"
      ]
     },
     "metadata": {
      "needs_background": "light"
     },
     "output_type": "display_data"
    }
   ],
   "source": [
    "plt.plot(range(num_of_iterations), loss_list)\n",
    "plt.title(\"Loss over iterations\")\n",
    "plt.xlabel(\"Iteration Number\")\n",
    "plt.ylabel(\"Loss\")\n",
    "plt.show()"
   ]
  },
  {
   "cell_type": "markdown",
   "id": "4619a8d3",
   "metadata": {},
   "source": []
  }
 ],
 "metadata": {
  "kernelspec": {
   "display_name": "Python 3 (ipykernel)",
   "language": "python",
   "name": "python3"
  },
  "language_info": {
   "codemirror_mode": {
    "name": "ipython",
    "version": 3
   },
   "file_extension": ".py",
   "mimetype": "text/x-python",
   "name": "python",
   "nbconvert_exporter": "python",
   "pygments_lexer": "ipython3",
   "version": "3.9.7"
  }
 },
 "nbformat": 4,
 "nbformat_minor": 5
}
